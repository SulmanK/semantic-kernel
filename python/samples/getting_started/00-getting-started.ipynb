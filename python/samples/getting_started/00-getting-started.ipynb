{
 "cells": [
  {
   "attachments": {},
   "cell_type": "markdown",
   "metadata": {},
   "source": [
    "# Setup\n",
    "\n",
    "**Step 1**: Import Semantic Kernel SDK from pypi.org\n"
   ]
  },
  {
   "cell_type": "code",
   "execution_count": 4,
   "metadata": {},
   "outputs": [
    {
     "name": "stdout",
     "output_type": "stream",
     "text": [
      "Requirement already satisfied: semantic-kernel==1.0.5 in c:\\users\\sulma\\appdata\\local\\programs\\python\\python311\\lib\\site-packages (1.0.5)\n",
      "Requirement already satisfied: aiohttp<4.0,>=3.8 in c:\\users\\sulma\\appdata\\local\\programs\\python\\python311\\lib\\site-packages (from semantic-kernel==1.0.5) (3.9.3)\n",
      "Requirement already satisfied: defusedxml<0.8.0,>=0.7.1 in c:\\users\\sulma\\appdata\\local\\programs\\python\\python311\\lib\\site-packages (from semantic-kernel==1.0.5) (0.7.1)\n",
      "Requirement already satisfied: grpcio>=1.50.0 in c:\\users\\sulma\\appdata\\local\\programs\\python\\python311\\lib\\site-packages (from semantic-kernel==1.0.5) (1.64.0)\n",
      "Requirement already satisfied: jinja2<4.0.0,>=3.1.3 in c:\\users\\sulma\\appdata\\local\\programs\\python\\python311\\lib\\site-packages (from semantic-kernel==1.0.5) (3.1.4)\n",
      "Requirement already satisfied: motor<4.0.0,>=3.3.2 in c:\\users\\sulma\\appdata\\local\\programs\\python\\python311\\lib\\site-packages (from semantic-kernel==1.0.5) (3.4.0)\n",
      "Requirement already satisfied: nest-asyncio<2.0.0,>=1.6.0 in c:\\users\\sulma\\appdata\\local\\programs\\python\\python311\\lib\\site-packages (from semantic-kernel==1.0.5) (1.6.0)\n",
      "Requirement already satisfied: numpy>=1.25 in c:\\users\\sulma\\appdata\\local\\programs\\python\\python311\\lib\\site-packages (from semantic-kernel==1.0.5) (1.25.2)\n",
      "Requirement already satisfied: openai>=1.0 in c:\\users\\sulma\\appdata\\local\\programs\\python\\python311\\lib\\site-packages (from semantic-kernel==1.0.5) (1.31.1)\n",
      "Requirement already satisfied: openapi_core<0.20,>=0.18 in c:\\users\\sulma\\appdata\\local\\programs\\python\\python311\\lib\\site-packages (from semantic-kernel==1.0.5) (0.19.1)\n",
      "Requirement already satisfied: prance<24.0.0.0,>=23.6.21.0 in c:\\users\\sulma\\appdata\\local\\programs\\python\\python311\\lib\\site-packages (from semantic-kernel==1.0.5) (23.6.21.0)\n",
      "Requirement already satisfied: pybars4<0.10.0,>=0.9.13 in c:\\users\\sulma\\appdata\\local\\programs\\python\\python311\\lib\\site-packages (from semantic-kernel==1.0.5) (0.9.13)\n",
      "Requirement already satisfied: pydantic<3,>=2 in c:\\users\\sulma\\appdata\\local\\programs\\python\\python311\\lib\\site-packages (from semantic-kernel==1.0.5) (2.7.3)\n",
      "Requirement already satisfied: pydantic-settings<3.0.0,>=2.2.1 in c:\\users\\sulma\\appdata\\local\\programs\\python\\python311\\lib\\site-packages (from semantic-kernel==1.0.5) (2.3.1)\n",
      "Requirement already satisfied: regex<2025.0.0,>=2023.6.3 in c:\\users\\sulma\\appdata\\local\\programs\\python\\python311\\lib\\site-packages (from semantic-kernel==1.0.5) (2024.4.16)\n",
      "Requirement already satisfied: scipy>=1.5.0 in c:\\users\\sulma\\appdata\\local\\programs\\python\\python311\\lib\\site-packages (from semantic-kernel==1.0.5) (1.11.1)\n",
      "Requirement already satisfied: aiosignal>=1.1.2 in c:\\users\\sulma\\appdata\\local\\programs\\python\\python311\\lib\\site-packages (from aiohttp<4.0,>=3.8->semantic-kernel==1.0.5) (1.3.1)\n",
      "Requirement already satisfied: attrs>=17.3.0 in c:\\users\\sulma\\appdata\\local\\programs\\python\\python311\\lib\\site-packages (from aiohttp<4.0,>=3.8->semantic-kernel==1.0.5) (23.1.0)\n",
      "Requirement already satisfied: frozenlist>=1.1.1 in c:\\users\\sulma\\appdata\\local\\programs\\python\\python311\\lib\\site-packages (from aiohttp<4.0,>=3.8->semantic-kernel==1.0.5) (1.4.1)\n",
      "Requirement already satisfied: multidict<7.0,>=4.5 in c:\\users\\sulma\\appdata\\local\\programs\\python\\python311\\lib\\site-packages (from aiohttp<4.0,>=3.8->semantic-kernel==1.0.5) (6.0.5)\n",
      "Requirement already satisfied: yarl<2.0,>=1.0 in c:\\users\\sulma\\appdata\\local\\programs\\python\\python311\\lib\\site-packages (from aiohttp<4.0,>=3.8->semantic-kernel==1.0.5) (1.9.4)\n",
      "Requirement already satisfied: MarkupSafe>=2.0 in c:\\users\\sulma\\appdata\\local\\programs\\python\\python311\\lib\\site-packages (from jinja2<4.0.0,>=3.1.3->semantic-kernel==1.0.5) (2.1.3)\n",
      "Requirement already satisfied: pymongo<5,>=4.5 in c:\\users\\sulma\\appdata\\local\\programs\\python\\python311\\lib\\site-packages (from motor<4.0.0,>=3.3.2->semantic-kernel==1.0.5) (4.7.3)\n",
      "Requirement already satisfied: anyio<5,>=3.5.0 in c:\\users\\sulma\\appdata\\local\\programs\\python\\python311\\lib\\site-packages (from openai>=1.0->semantic-kernel==1.0.5) (3.7.1)\n",
      "Requirement already satisfied: distro<2,>=1.7.0 in c:\\users\\sulma\\appdata\\local\\programs\\python\\python311\\lib\\site-packages (from openai>=1.0->semantic-kernel==1.0.5) (1.9.0)\n",
      "Requirement already satisfied: httpx<1,>=0.23.0 in c:\\users\\sulma\\appdata\\local\\programs\\python\\python311\\lib\\site-packages (from openai>=1.0->semantic-kernel==1.0.5) (0.27.0)\n",
      "Requirement already satisfied: sniffio in c:\\users\\sulma\\appdata\\local\\programs\\python\\python311\\lib\\site-packages (from openai>=1.0->semantic-kernel==1.0.5) (1.3.0)\n",
      "Requirement already satisfied: tqdm>4 in c:\\users\\sulma\\appdata\\local\\programs\\python\\python311\\lib\\site-packages (from openai>=1.0->semantic-kernel==1.0.5) (4.66.2)\n",
      "Requirement already satisfied: typing-extensions<5,>=4.7 in c:\\users\\sulma\\appdata\\local\\programs\\python\\python311\\lib\\site-packages (from openai>=1.0->semantic-kernel==1.0.5) (4.9.0)\n",
      "Requirement already satisfied: isodate in c:\\users\\sulma\\appdata\\local\\programs\\python\\python311\\lib\\site-packages (from openapi_core<0.20,>=0.18->semantic-kernel==1.0.5) (0.6.1)\n",
      "Requirement already satisfied: jsonschema<5.0.0,>=4.18.0 in c:\\users\\sulma\\appdata\\local\\programs\\python\\python311\\lib\\site-packages (from openapi_core<0.20,>=0.18->semantic-kernel==1.0.5) (4.22.0)\n",
      "Requirement already satisfied: jsonschema-path<0.4.0,>=0.3.1 in c:\\users\\sulma\\appdata\\local\\programs\\python\\python311\\lib\\site-packages (from openapi_core<0.20,>=0.18->semantic-kernel==1.0.5) (0.3.2)\n",
      "Requirement already satisfied: more-itertools in c:\\users\\sulma\\appdata\\local\\programs\\python\\python311\\lib\\site-packages (from openapi_core<0.20,>=0.18->semantic-kernel==1.0.5) (10.2.0)\n",
      "Requirement already satisfied: openapi-schema-validator<0.7.0,>=0.6.0 in c:\\users\\sulma\\appdata\\local\\programs\\python\\python311\\lib\\site-packages (from openapi_core<0.20,>=0.18->semantic-kernel==1.0.5) (0.6.2)\n",
      "Requirement already satisfied: openapi-spec-validator<0.8.0,>=0.7.1 in c:\\users\\sulma\\appdata\\local\\programs\\python\\python311\\lib\\site-packages (from openapi_core<0.20,>=0.18->semantic-kernel==1.0.5) (0.7.1)\n",
      "Requirement already satisfied: parse in c:\\users\\sulma\\appdata\\local\\programs\\python\\python311\\lib\\site-packages (from openapi_core<0.20,>=0.18->semantic-kernel==1.0.5) (1.20.1)\n",
      "Requirement already satisfied: werkzeug in c:\\users\\sulma\\appdata\\local\\programs\\python\\python311\\lib\\site-packages (from openapi_core<0.20,>=0.18->semantic-kernel==1.0.5) (2.2.3)\n",
      "Requirement already satisfied: chardet>=3.0 in c:\\users\\sulma\\appdata\\local\\programs\\python\\python311\\lib\\site-packages (from prance<24.0.0.0,>=23.6.21.0->semantic-kernel==1.0.5) (5.2.0)\n",
      "Requirement already satisfied: ruamel.yaml>=0.17.10 in c:\\users\\sulma\\appdata\\local\\programs\\python\\python311\\lib\\site-packages (from prance<24.0.0.0,>=23.6.21.0->semantic-kernel==1.0.5) (0.18.6)\n",
      "Requirement already satisfied: requests>=2.25 in c:\\users\\sulma\\appdata\\local\\programs\\python\\python311\\lib\\site-packages (from prance<24.0.0.0,>=23.6.21.0->semantic-kernel==1.0.5) (2.31.0)\n",
      "Requirement already satisfied: six~=1.15 in c:\\users\\sulma\\appdata\\local\\programs\\python\\python311\\lib\\site-packages (from prance<24.0.0.0,>=23.6.21.0->semantic-kernel==1.0.5) (1.16.0)\n",
      "Requirement already satisfied: packaging>=21.3 in c:\\users\\sulma\\appdata\\local\\programs\\python\\python311\\lib\\site-packages (from prance<24.0.0.0,>=23.6.21.0->semantic-kernel==1.0.5) (23.1)\n",
      "Requirement already satisfied: PyMeta3>=0.5.1 in c:\\users\\sulma\\appdata\\local\\programs\\python\\python311\\lib\\site-packages (from pybars4<0.10.0,>=0.9.13->semantic-kernel==1.0.5) (0.5.1)\n",
      "Requirement already satisfied: annotated-types>=0.4.0 in c:\\users\\sulma\\appdata\\local\\programs\\python\\python311\\lib\\site-packages (from pydantic<3,>=2->semantic-kernel==1.0.5) (0.7.0)\n",
      "Requirement already satisfied: pydantic-core==2.18.4 in c:\\users\\sulma\\appdata\\local\\programs\\python\\python311\\lib\\site-packages (from pydantic<3,>=2->semantic-kernel==1.0.5) (2.18.4)\n",
      "Requirement already satisfied: python-dotenv>=0.21.0 in c:\\users\\sulma\\appdata\\local\\programs\\python\\python311\\lib\\site-packages (from pydantic-settings<3.0.0,>=2.2.1->semantic-kernel==1.0.5) (1.0.1)\n",
      "Requirement already satisfied: idna>=2.8 in c:\\users\\sulma\\appdata\\local\\programs\\python\\python311\\lib\\site-packages (from anyio<5,>=3.5.0->openai>=1.0->semantic-kernel==1.0.5) (3.4)\n",
      "Requirement already satisfied: certifi in c:\\users\\sulma\\appdata\\local\\programs\\python\\python311\\lib\\site-packages (from httpx<1,>=0.23.0->openai>=1.0->semantic-kernel==1.0.5) (2023.7.22)\n",
      "Requirement already satisfied: httpcore==1.* in c:\\users\\sulma\\appdata\\local\\programs\\python\\python311\\lib\\site-packages (from httpx<1,>=0.23.0->openai>=1.0->semantic-kernel==1.0.5) (1.0.5)\n",
      "Requirement already satisfied: h11<0.15,>=0.13 in c:\\users\\sulma\\appdata\\local\\programs\\python\\python311\\lib\\site-packages (from httpcore==1.*->httpx<1,>=0.23.0->openai>=1.0->semantic-kernel==1.0.5) (0.14.0)\n",
      "Requirement already satisfied: jsonschema-specifications>=2023.03.6 in c:\\users\\sulma\\appdata\\local\\programs\\python\\python311\\lib\\site-packages (from jsonschema<5.0.0,>=4.18.0->openapi_core<0.20,>=0.18->semantic-kernel==1.0.5) (2023.7.1)\n",
      "Requirement already satisfied: referencing>=0.28.4 in c:\\users\\sulma\\appdata\\local\\programs\\python\\python311\\lib\\site-packages (from jsonschema<5.0.0,>=4.18.0->openapi_core<0.20,>=0.18->semantic-kernel==1.0.5) (0.30.2)\n",
      "Requirement already satisfied: rpds-py>=0.7.1 in c:\\users\\sulma\\appdata\\local\\programs\\python\\python311\\lib\\site-packages (from jsonschema<5.0.0,>=4.18.0->openapi_core<0.20,>=0.18->semantic-kernel==1.0.5) (0.9.2)\n",
      "Requirement already satisfied: PyYAML>=5.1 in c:\\users\\sulma\\appdata\\local\\programs\\python\\python311\\lib\\site-packages (from jsonschema-path<0.4.0,>=0.3.1->openapi_core<0.20,>=0.18->semantic-kernel==1.0.5) (6.0.1)\n",
      "Requirement already satisfied: pathable<0.5.0,>=0.4.1 in c:\\users\\sulma\\appdata\\local\\programs\\python\\python311\\lib\\site-packages (from jsonschema-path<0.4.0,>=0.3.1->openapi_core<0.20,>=0.18->semantic-kernel==1.0.5) (0.4.3)\n",
      "Requirement already satisfied: rfc3339-validator in c:\\users\\sulma\\appdata\\local\\programs\\python\\python311\\lib\\site-packages (from openapi-schema-validator<0.7.0,>=0.6.0->openapi_core<0.20,>=0.18->semantic-kernel==1.0.5) (0.1.4)\n",
      "Requirement already satisfied: lazy-object-proxy<2.0.0,>=1.7.1 in c:\\users\\sulma\\appdata\\local\\programs\\python\\python311\\lib\\site-packages (from openapi-spec-validator<0.8.0,>=0.7.1->openapi_core<0.20,>=0.18->semantic-kernel==1.0.5) (1.10.0)\n",
      "Requirement already satisfied: dnspython<3.0.0,>=1.16.0 in c:\\users\\sulma\\appdata\\local\\programs\\python\\python311\\lib\\site-packages (from pymongo<5,>=4.5->motor<4.0.0,>=3.3.2->semantic-kernel==1.0.5) (2.6.1)\n",
      "Requirement already satisfied: charset-normalizer<4,>=2 in c:\\users\\sulma\\appdata\\local\\programs\\python\\python311\\lib\\site-packages (from requests>=2.25->prance<24.0.0.0,>=23.6.21.0->semantic-kernel==1.0.5) (3.2.0)\n",
      "Requirement already satisfied: urllib3<3,>=1.21.1 in c:\\users\\sulma\\appdata\\local\\programs\\python\\python311\\lib\\site-packages (from requests>=2.25->prance<24.0.0.0,>=23.6.21.0->semantic-kernel==1.0.5) (2.0.4)\n",
      "Requirement already satisfied: ruamel.yaml.clib>=0.2.7 in c:\\users\\sulma\\appdata\\local\\programs\\python\\python311\\lib\\site-packages (from ruamel.yaml>=0.17.10->prance<24.0.0.0,>=23.6.21.0->semantic-kernel==1.0.5) (0.2.8)\n",
      "Requirement already satisfied: colorama in c:\\users\\sulma\\appdata\\local\\programs\\python\\python311\\lib\\site-packages (from tqdm>4->openai>=1.0->semantic-kernel==1.0.5) (0.4.6)\n"
     ]
    }
   ],
   "source": [
    "!python -m pip install semantic-kernel==1.0.5"
   ]
  },
  {
   "cell_type": "code",
   "execution_count": 2,
   "metadata": {},
   "outputs": [],
   "source": [
    "from semantic_kernel import Kernel\n",
    "\n",
    "kernel = Kernel()"
   ]
  },
  {
   "cell_type": "markdown",
   "metadata": {},
   "source": [
    "### Configure the service you'd like to use via the `Service` Enum.\n"
   ]
  },
  {
   "cell_type": "code",
   "execution_count": 17,
   "metadata": {},
   "outputs": [
    {
     "name": "stdout",
     "output_type": "stream",
     "text": [
      "Using service type: Service.OpenAI\n"
     ]
    }
   ],
   "source": [
    "from services import Service\n",
    "from service_settings import ServiceSettings\n",
    "import sys\n",
    "import os\n",
    "\n",
    "# Add the samples directory to the Python path\n",
    "samples_dir = r'C:\\Users\\sulma\\OneDrive\\Documents\\GitHub\\semantic-kernel\\python\\samples'\n",
    "sys.path.append(samples_dir)\n",
    "\n",
    "\n",
    "service_settings = ServiceSettings(\n",
    "    global_llm_service=\"OpenAI\")  # Example setting\n",
    "\n",
    "# Select a service to use for this notebook (available services: OpenAI, AzureOpenAI, HuggingFace)\n",
    "selectedService = (\n",
    "    Service.AzureOpenAI\n",
    "    if service_settings.global_llm_service is None\n",
    "    else Service(service_settings.global_llm_service.lower())\n",
    ")\n",
    "print(f\"Using service type: {selectedService}\")"
   ]
  },
  {
   "attachments": {},
   "cell_type": "markdown",
   "metadata": {},
   "source": [
    "## Option 1: using OpenAI\n",
    "\n",
    "**Step 2**: Add your [OpenAI Key](https://openai.com/product/) key to either your environment variables or to the `.env` file in the same folder (org Id only if you have multiple orgs):\n",
    "\n",
    "```\n",
    "OPENAI_API_KEY=\"sk-...\"\n",
    "OPENAI_ORG_ID=\"\"\n",
    "```\n",
    "The environment variables names should match the names used in the `.env` file, as shown above.\n",
    "\n",
    "If using the `.env` file, please configure the `env_file_path` parameter with a valid path when creating the ChatCompletion class:\n",
    "\n",
    "```\n",
    "chat_completion = OpenAIChatCompletion(service_id=\"test\", env_file_path=<path_to_file>)\n",
    "```\n",
    "\n",
    "Use \"keyword arguments\" to instantiate an OpenAI Chat Completion service and add it to the kernel:\n",
    "\n",
    "## Option 2: using Azure OpenAI\n",
    "\n",
    "**Step 2**: Add your [Azure Open AI Service key](https://learn.microsoft.com/azure/cognitive-services/openai/quickstart?pivots=programming-language-studio) settings to either your system's environment variables or to the `.env` file in the same folder:\n",
    "\n",
    "```\n",
    "AZURE_OPENAI_API_KEY=\"...\"\n",
    "AZURE_OPENAI_ENDPOINT=\"https://...\"\n",
    "AZURE_OPENAI_CHAT_DEPLOYMENT_NAME=\"...\"\n",
    "AZURE_OPENAI_TEXT_DEPLOYMENT_NAME=\"...\"\n",
    "AZURE_OPENAI_EMBEDDING_DEPLOYMENT_NAME=\"...\"\n",
    "```\n",
    "The environment variables names should match the names used in the `.env` file, as shown above.\n",
    "\n",
    "If using the `.env` file, please configure the `env_file_path` parameter with a valid path when creating the ChatCompletion class:\n",
    "\n",
    "```\n",
    "chat_completion = AzureChatCompletion(service_id=\"test\", env_file_path=<path_to_file>)\n",
    "```\n",
    "\n",
    "Use \"keyword arguments\" to instantiate an Azure OpenAI Chat Completion service and add it to the kernel:\n"
   ]
  },
  {
   "cell_type": "code",
   "execution_count": null,
   "metadata": {},
   "outputs": [],
   "source": [
    "service_id = None\n",
    "if selectedService == Service.OpenAI:\n",
    "    from semantic_kernel.connectors.ai.open_ai import OpenAIChatCompletion\n",
    "\n",
    "    service_id = \"default\"\n",
    "    kernel.add_service(\n",
    "        OpenAIChatCompletion(service_id=service_id, ai_model_id=\"gpt-3.5-turbo-1106\"),\n",
    "    )\n",
    "elif selectedService == Service.AzureOpenAI:\n",
    "    from semantic_kernel.connectors.ai.open_ai import AzureChatCompletion\n",
    "\n",
    "    service_id = \"default\"\n",
    "    kernel.add_service(\n",
    "        AzureChatCompletion(service_id=service_id),\n",
    "    )"
   ]
  },
  {
   "attachments": {},
   "cell_type": "markdown",
   "metadata": {},
   "source": [
    "# Run a Semantic Function\n",
    "\n",
    "**Step 3**: Load a Plugin and run a semantic function:\n"
   ]
  },
  {
   "cell_type": "code",
   "execution_count": null,
   "metadata": {},
   "outputs": [],
   "source": [
    "plugin = kernel.add_plugin(parent_directory=\"../../../prompt_template_samples/\", plugin_name=\"FunPlugin\")"
   ]
  },
  {
   "cell_type": "code",
   "execution_count": null,
   "metadata": {},
   "outputs": [],
   "source": [
    "from semantic_kernel.functions import KernelArguments\n",
    "\n",
    "joke_function = plugin[\"Joke\"]\n",
    "\n",
    "joke = await kernel.invoke(\n",
    "    joke_function,\n",
    "    KernelArguments(input=\"time travel to dinosaur age\", style=\"super silly\"),\n",
    ")\n",
    "print(joke)"
   ]
  }
 ],
 "metadata": {
  "kernelspec": {
   "display_name": "Python 3 (ipykernel)",
   "language": "python",
   "name": "python3"
  },
  "language_info": {
   "codemirror_mode": {
    "name": "ipython",
    "version": 3
   },
   "file_extension": ".py",
   "mimetype": "text/x-python",
   "name": "python",
   "nbconvert_exporter": "python",
   "pygments_lexer": "ipython3",
   "version": "3.10.14"
  }
 },
 "nbformat": 4,
 "nbformat_minor": 2
}
